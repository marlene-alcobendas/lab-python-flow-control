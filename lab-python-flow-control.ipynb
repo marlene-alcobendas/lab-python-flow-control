{
 "cells": [
  {
   "cell_type": "markdown",
   "id": "d3bfc191-8885-42ee-b0a0-bbab867c6f9f",
   "metadata": {
    "tags": []
   },
   "source": [
    "# Lab | Flow Control"
   ]
  },
  {
   "cell_type": "markdown",
   "id": "3851fcd1-cf98-4653-9c89-e003b7ec9400",
   "metadata": {},
   "source": [
    "## Exercise: Managing Customer Orders Optimized\n",
    "\n",
    "In the last lab, you were starting an online store that sells various products. To ensure smooth operations, you developed a program that manages customer orders and inventory.\n",
    "\n",
    "You did so without using flow control. Let's go a step further and improve this code.\n",
    "\n",
    "Follow the steps below to complete the exercise:\n",
    "\n",
    "1. Look at your code from the lab data structures, and improve repeated code with loops.\n",
    "\n",
    "2. Instead of asking the user to input the name of three products that a customer wants to order, do the following:\n",
    "    \n",
    "    a. Prompt the user to enter the name of a product that a customer wants to order.\n",
    "    \n",
    "    b. Add the product name to the \"customer_orders\" set.\n",
    "    \n",
    "    c. Ask the user if they want to add another product (yes/no).\n",
    "    \n",
    "    d. Continue the loop until the user does not want to add another product.\n",
    "\n",
    "3. Instead of updating the inventory by subtracting 1 from the quantity of each product, only do it for  the products that were ordered (those in \"customer_orders\")."
   ]
  },
  {
   "cell_type": "code",
   "execution_count": 5,
   "id": "da6d7fbe",
   "metadata": {},
   "outputs": [
    {
     "name": "stdout",
     "output_type": "stream",
     "text": [
      "{'t-shirt': 5, 'mug': 5, 'hat': 5, 'book': 5, 'keychain': 5}\n",
      "Your order is completed. The order contains {'book', 'hat'}.\n",
      "Customer orders: {'book', 'hat'}\n",
      "Total Products Ordered: 2\n",
      "Percentage of Products Ordered: 40.0 %\n",
      "\n",
      "  Order Statistics:\n",
      "  Total Products Ordered: 2\n",
      "  Percentage of Products Ordered: 40.0%\n",
      "\n",
      "updated inventory: \n",
      "t-shirt: 5\n",
      "mug: 5\n",
      "hat: 4\n",
      "book: 4\n",
      "keychain: 5\n"
     ]
    }
   ],
   "source": [
    "#1. Look at your code from the lab data structures, and improve repeated code with loops.\n",
    "\n",
    "products = [\"t-shirt\", \"mug\", \"hat\", \"book\", \"keychain\"]\n",
    "inventory = {}\n",
    "\n",
    "for product in products:\n",
    "    inventory[product] = int(input(f\"Please enter the quantity of {product} available in the inventory: \"))\n",
    "print(inventory)\n",
    "\n",
    "customer_orders = set()\n",
    "\n",
    "#2. Instead of asking the user to input the name of three products that a customer wants to order, do the following:\n",
    "# a. Prompt repeatedly until the customer says 'no'\n",
    "while True:\n",
    "    order = input(\"Please enter the name of a product the customer wants to order (t-shirt, mug, hat, book, keychain): \").strip().lower() \n",
    "    if order in products:\n",
    "        customer_orders.add(order)    # b. Add the product name to the \"customer_orders\" set.\n",
    "        o = input(\"Do you want to order another product? (yes/no): \").strip().lower()  # c. Ask the user if they want to add another product (yes/no).\n",
    "        if o == \"no\":\n",
    "            print(f\"Your order is completed. The order contains {customer_orders}.\")\n",
    "            break # d. Continue the loop until the user does not want to add another product.\n",
    "    else:\n",
    "        print(\"Sorry, that product is not available.\")\n",
    "        continue\n",
    "   \n",
    "\n",
    "print(\"Customer orders:\", customer_orders)\n",
    "print(\"Total Products Ordered:\", len(customer_orders))\n",
    "print(\"Percentage of Products Ordered:\", (len(customer_orders) / len(products)) * 100, \"%\")\n",
    "print(f\"\"\"\n",
    "  Order Statistics:\n",
    "  Total Products Ordered: {len(customer_orders)}\n",
    "  Percentage of Products Ordered: {(len(customer_orders) / len(products)) * 100}%\n",
    "\"\"\")\n",
    "\n",
    "#3. Instead of updating the inventory by subtracting 1 from the quantity of each product, only do it for  the products that were ordered (those in \"customer_orders\").\n",
    "\n",
    "for order in customer_orders:\n",
    "    inventory[order] -= 1\n",
    "    if inventory[order] < 0:\n",
    "        inventory[order] = 0\n",
    "\n",
    "print(\"updated inventory: \")\n",
    "\n",
    "for item in inventory:\n",
    "    print(f\"{item}: {inventory[item]}\")\n"
   ]
  }
 ],
 "metadata": {
  "kernelspec": {
   "display_name": "Python 3",
   "language": "python",
   "name": "python3"
  },
  "language_info": {
   "codemirror_mode": {
    "name": "ipython",
    "version": 3
   },
   "file_extension": ".py",
   "mimetype": "text/x-python",
   "name": "python",
   "nbconvert_exporter": "python",
   "pygments_lexer": "ipython3",
   "version": "3.12.9"
  }
 },
 "nbformat": 4,
 "nbformat_minor": 5
}
